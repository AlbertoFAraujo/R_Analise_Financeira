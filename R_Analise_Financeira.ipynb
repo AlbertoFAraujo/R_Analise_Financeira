{
  "cells": [
    {
      "cell_type": "markdown",
      "metadata": {
        "id": "ElibljP_8tYw"
      },
      "source": [
        "#Analise Financeira\n",
        "\n",
        "O objetivo deste mini-projeto é unir duas poderosas ferramentas de análise de dados para resolver um problema de negócio: Linguagem SQL será usada para análise exploratória de dados através do pacote sqldf e Linguagem R será usada para análise estatística.\n",
        "\n",
        "###**Problema de Negócio:**\n",
        "\n",
        "Uma rede de hospitais gostaria de compreender as variáveis relacionadas aosgastoscom internações hospitalares de pacientes.Usaremos  dados  de  uma pesquisa  nacional  de  custos  hospitalares  realizada  pela  US Agency  for  Healthcare que consiste  em  registros  hospitalares  de  amostras  de  pacientes internados. Os dados fornecidos são restritos à cidade de Wisconsin e referem-se a pacientes na faixa etária de 0 a 17 anos.\n",
        "\n",
        "Vamos separar o trabalho em duas etapas. Na etapa 1 vamos explorar os dados usando Linguagem  SQL  e  responder  10  perguntas  de  negócio.  Na  etapa  2  vamos  realizar  análise estatística com Linguagem R através do Teste ANOVA e Regressão Linear e responder 7 perguntas de negócio.\n",
        "\n",
        "\n",
        "###**Dicionário de dados:**\n",
        "- AGE: Idade do paciente\n",
        "- FEMALE: Variável binária que indica se o paciente é do sexo feminino\n",
        "-LOS: (Length of stay) Tempo da internação do paciente\n",
        "- RACE: Raça do paciente\n",
        "-TOTCHG: Custo da internação\n",
        "- APRDRG: Grupo de diagnóstico refinado do paciente\n",
        "\n",
        ">**Referências:** Formação Cientista de dados (Data Science Academy: https://www.datascienceacademy.com.br)"
      ]
    },
    {
      "cell_type": "code",
      "execution_count": null,
      "metadata": {
        "id": "B_C-hy87SjWV",
        "vscode": {
          "languageId": "r"
        }
      },
      "outputs": [],
      "source": [
        "# Configurações de saídas\n",
        "options(scipen = 999, digits = 2)\n",
        "options(repos = \"http://cran.rstudio.com/\")\n",
        "options(repr.plot.width = 20, repr.plot.height = 10)"
      ]
    },
    {
      "cell_type": "code",
      "execution_count": null,
      "metadata": {
        "colab": {
          "base_uri": "https://localhost:8080/"
        },
        "id": "VCM20ODpdYb6",
        "outputId": "18e7e40b-4f00-40cc-a061-091e8c886a1c",
        "vscode": {
          "languageId": "r"
        }
      },
      "outputs": [
        {
          "name": "stderr",
          "output_type": "stream",
          "text": [
            "Loading required package: pacman\n",
            "\n",
            "Warning message in library(package, lib.loc = lib.loc, character.only = TRUE, logical.return = TRUE, :\n",
            "“there is no package called ‘pacman’”\n",
            "Installing package into ‘/usr/local/lib/R/site-library’\n",
            "(as ‘lib’ is unspecified)\n",
            "\n",
            "Installing package into ‘/usr/local/lib/R/site-library’\n",
            "(as ‘lib’ is unspecified)\n",
            "\n",
            "also installing the dependencies ‘plogr’, ‘gsubfn’, ‘proto’, ‘RSQLite’, ‘chron’\n",
            "\n",
            "\n",
            "\n",
            "sqldf installed\n",
            "\n",
            "Warning message:\n",
            "“no DISPLAY variable so Tk is not available”\n"
          ]
        }
      ],
      "source": [
        "if(!require(pacman)) install.packages('pacman')\n",
        "library('pacman')\n",
        "pacman::p_load(dplyr, ggplot2, sqldf)"
      ]
    },
    {
      "cell_type": "code",
      "execution_count": null,
      "metadata": {
        "id": "2NI8kUfISl3W",
        "vscode": {
          "languageId": "r"
        }
      },
      "outputs": [],
      "source": [
        "# Lendo o dataset\n",
        "df <- read.csv('/content/dataset.csv')"
      ]
    },
    {
      "cell_type": "code",
      "execution_count": null,
      "metadata": {
        "id": "G9XftYwOSl6F",
        "vscode": {
          "languageId": "r"
        }
      },
      "outputs": [],
      "source": [
        "# Alterando as labels\n",
        "\n",
        "novos_rotulos <- c('Idade','éFeminino','TempoInternacao','Raca','Custo',\n",
        "                    'GrupoDiagnostico')\n",
        "colnames(df) <- novos_rotulos"
      ]
    },
    {
      "cell_type": "code",
      "execution_count": null,
      "metadata": {
        "colab": {
          "base_uri": "https://localhost:8080/",
          "height": 286
        },
        "id": "OaGzvJ9cSl8q",
        "outputId": "5eabe827-8fa0-49c1-b414-fb7f04e00011",
        "vscode": {
          "languageId": "r"
        }
      },
      "outputs": [
        {
          "data": {
            "text/html": [
              "<table class=\"dataframe\">\n",
              "<caption>A data.frame: 6 × 6</caption>\n",
              "<thead>\n",
              "\t<tr><th></th><th scope=col>Idade</th><th scope=col>éFeminino</th><th scope=col>TempoInternacao</th><th scope=col>Raca</th><th scope=col>Custo</th><th scope=col>GrupoDiagnostico</th></tr>\n",
              "\t<tr><th></th><th scope=col>&lt;int&gt;</th><th scope=col>&lt;int&gt;</th><th scope=col>&lt;int&gt;</th><th scope=col>&lt;int&gt;</th><th scope=col>&lt;int&gt;</th><th scope=col>&lt;int&gt;</th></tr>\n",
              "</thead>\n",
              "<tbody>\n",
              "\t<tr><th scope=row>1</th><td>17</td><td>1</td><td>2</td><td>1</td><td> 2660</td><td>560</td></tr>\n",
              "\t<tr><th scope=row>2</th><td>17</td><td>0</td><td>2</td><td>1</td><td> 1689</td><td>753</td></tr>\n",
              "\t<tr><th scope=row>3</th><td>17</td><td>1</td><td>7</td><td>1</td><td>20060</td><td>930</td></tr>\n",
              "\t<tr><th scope=row>4</th><td>17</td><td>1</td><td>1</td><td>1</td><td>  736</td><td>758</td></tr>\n",
              "\t<tr><th scope=row>5</th><td>17</td><td>1</td><td>1</td><td>1</td><td> 1194</td><td>754</td></tr>\n",
              "\t<tr><th scope=row>6</th><td>17</td><td>0</td><td>0</td><td>1</td><td> 3305</td><td>347</td></tr>\n",
              "</tbody>\n",
              "</table>\n"
            ],
            "text/latex": [
              "A data.frame: 6 × 6\n",
              "\\begin{tabular}{r|llllll}\n",
              "  & Idade & éFeminino & TempoInternacao & Raca & Custo & GrupoDiagnostico\\\\\n",
              "  & <int> & <int> & <int> & <int> & <int> & <int>\\\\\n",
              "\\hline\n",
              "\t1 & 17 & 1 & 2 & 1 &  2660 & 560\\\\\n",
              "\t2 & 17 & 0 & 2 & 1 &  1689 & 753\\\\\n",
              "\t3 & 17 & 1 & 7 & 1 & 20060 & 930\\\\\n",
              "\t4 & 17 & 1 & 1 & 1 &   736 & 758\\\\\n",
              "\t5 & 17 & 1 & 1 & 1 &  1194 & 754\\\\\n",
              "\t6 & 17 & 0 & 0 & 1 &  3305 & 347\\\\\n",
              "\\end{tabular}\n"
            ],
            "text/markdown": [
              "\n",
              "A data.frame: 6 × 6\n",
              "\n",
              "| <!--/--> | Idade &lt;int&gt; | éFeminino &lt;int&gt; | TempoInternacao &lt;int&gt; | Raca &lt;int&gt; | Custo &lt;int&gt; | GrupoDiagnostico &lt;int&gt; |\n",
              "|---|---|---|---|---|---|---|\n",
              "| 1 | 17 | 1 | 2 | 1 |  2660 | 560 |\n",
              "| 2 | 17 | 0 | 2 | 1 |  1689 | 753 |\n",
              "| 3 | 17 | 1 | 7 | 1 | 20060 | 930 |\n",
              "| 4 | 17 | 1 | 1 | 1 |   736 | 758 |\n",
              "| 5 | 17 | 1 | 1 | 1 |  1194 | 754 |\n",
              "| 6 | 17 | 0 | 0 | 1 |  3305 | 347 |\n",
              "\n"
            ],
            "text/plain": [
              "  Idade éFeminino TempoInternacao Raca Custo GrupoDiagnostico\n",
              "1 17    1         2               1     2660 560             \n",
              "2 17    0         2               1     1689 753             \n",
              "3 17    1         7               1    20060 930             \n",
              "4 17    1         1               1      736 758             \n",
              "5 17    1         1               1     1194 754             \n",
              "6 17    0         0               1     3305 347             "
            ]
          },
          "metadata": {},
          "output_type": "display_data"
        }
      ],
      "source": [
        "# Visualizando as primeiras linhas\n",
        "head(df)"
      ]
    },
    {
      "cell_type": "code",
      "execution_count": null,
      "metadata": {
        "colab": {
          "base_uri": "https://localhost:8080/",
          "height": 34
        },
        "id": "32GvGKMVSmAm",
        "outputId": "1d049f26-8e41-4b62-a5a8-125f0158d1fb",
        "vscode": {
          "languageId": "r"
        }
      },
      "outputs": [
        {
          "data": {
            "text/html": [
              "<style>\n",
              ".list-inline {list-style: none; margin:0; padding: 0}\n",
              ".list-inline>li {display: inline-block}\n",
              ".list-inline>li:not(:last-child)::after {content: \"\\00b7\"; padding: 0 .5ex}\n",
              "</style>\n",
              "<ol class=list-inline><li>500</li><li>6</li></ol>\n"
            ],
            "text/latex": [
              "\\begin{enumerate*}\n",
              "\\item 500\n",
              "\\item 6\n",
              "\\end{enumerate*}\n"
            ],
            "text/markdown": [
              "1. 500\n",
              "2. 6\n",
              "\n",
              "\n"
            ],
            "text/plain": [
              "[1] 500   6"
            ]
          },
          "metadata": {},
          "output_type": "display_data"
        }
      ],
      "source": [
        "# Dimensões\n",
        "dim(df)"
      ]
    },
    {
      "cell_type": "code",
      "execution_count": null,
      "metadata": {
        "colab": {
          "base_uri": "https://localhost:8080/"
        },
        "id": "WEUYWzW3UpAh",
        "outputId": "b6042752-0237-4ea9-b623-7a75ef567cff",
        "vscode": {
          "languageId": "r"
        }
      },
      "outputs": [
        {
          "name": "stdout",
          "output_type": "stream",
          "text": [
            "'data.frame':\t500 obs. of  6 variables:\n",
            " $ Idade           : int  17 17 17 17 17 17 17 16 16 17 ...\n",
            " $ éFeminino       : int  1 0 1 1 1 0 1 1 1 1 ...\n",
            " $ TempoInternacao : int  2 2 7 1 1 0 4 2 1 2 ...\n",
            " $ Raca            : int  1 1 1 1 1 1 1 1 1 1 ...\n",
            " $ Custo           : int  2660 1689 20060 736 1194 3305 2205 1167 532 1363 ...\n",
            " $ GrupoDiagnostico: int  560 753 930 758 754 347 754 754 753 758 ...\n"
          ]
        }
      ],
      "source": [
        "# Tipos de dados\n",
        "str(df)"
      ]
    },
    {
      "cell_type": "code",
      "execution_count": null,
      "metadata": {
        "colab": {
          "base_uri": "https://localhost:8080/",
          "height": 34
        },
        "id": "c-HdeTwfewBX",
        "outputId": "90a3d470-e66b-47c9-8d32-e90f94bc8221",
        "vscode": {
          "languageId": "r"
        }
      },
      "outputs": [
        {
          "data": {
            "text/html": [
              "1"
            ],
            "text/latex": [
              "1"
            ],
            "text/markdown": [
              "1"
            ],
            "text/plain": [
              "[1] 1"
            ]
          },
          "metadata": {},
          "output_type": "display_data"
        }
      ],
      "source": [
        "# Verificando os valores ausentes\n",
        "sum(is.na(df))"
      ]
    },
    {
      "cell_type": "code",
      "execution_count": null,
      "metadata": {
        "colab": {
          "base_uri": "https://localhost:8080/",
          "height": 309
        },
        "id": "GLvS1XxxfVkv",
        "outputId": "c57fa670-6608-4343-9f71-d86d350290dc",
        "vscode": {
          "languageId": "r"
        }
      },
      "outputs": [
        {
          "data": {
            "text/plain": [
              "     Idade        éFeminino    TempoInternacao      Raca         Custo      \n",
              " Min.   : 0.0   Min.   :0.00   Min.   : 0      Min.   :1.0   Min.   :  532  \n",
              " 1st Qu.: 0.0   1st Qu.:0.00   1st Qu.: 2      1st Qu.:1.0   1st Qu.: 1216  \n",
              " Median : 0.0   Median :1.00   Median : 2      Median :1.0   Median : 1536  \n",
              " Mean   : 5.1   Mean   :0.51   Mean   : 3      Mean   :1.1   Mean   : 2774  \n",
              " 3rd Qu.:13.0   3rd Qu.:1.00   3rd Qu.: 3      3rd Qu.:1.0   3rd Qu.: 2530  \n",
              " Max.   :17.0   Max.   :1.00   Max.   :41      Max.   :6.0   Max.   :48388  \n",
              "                                               NA's   :1                    \n",
              " GrupoDiagnostico\n",
              " Min.   : 21     \n",
              " 1st Qu.:640     \n",
              " Median :640     \n",
              " Mean   :616     \n",
              " 3rd Qu.:751     \n",
              " Max.   :952     \n",
              "                 "
            ]
          },
          "metadata": {},
          "output_type": "display_data"
        }
      ],
      "source": [
        "# Verificando o sumário das variáveis\n",
        "summary(df)"
      ]
    },
    {
      "cell_type": "code",
      "execution_count": null,
      "metadata": {
        "colab": {
          "base_uri": "https://localhost:8080/",
          "height": 273
        },
        "id": "FqEsSWFVfkjU",
        "outputId": "fc4e9f38-f620-4e2e-dcf8-b4da0f35e86a",
        "vscode": {
          "languageId": "r"
        }
      },
      "outputs": [
        {
          "data": {
            "text/plain": [
              "     Idade        éFeminino    TempoInternacao      Raca         Custo      \n",
              " Min.   : 0.0   Min.   :0.00   Min.   : 0      Min.   :1.0   Min.   :  532  \n",
              " 1st Qu.: 0.0   1st Qu.:0.00   1st Qu.: 2      1st Qu.:1.0   1st Qu.: 1218  \n",
              " Median : 0.0   Median :1.00   Median : 2      Median :1.0   Median : 1538  \n",
              " Mean   : 5.1   Mean   :0.51   Mean   : 3      Mean   :1.1   Mean   : 2778  \n",
              " 3rd Qu.:13.0   3rd Qu.:1.00   3rd Qu.: 3      3rd Qu.:1.0   3rd Qu.: 2530  \n",
              " Max.   :17.0   Max.   :1.00   Max.   :41      Max.   :6.0   Max.   :48388  \n",
              " GrupoDiagnostico\n",
              " Min.   : 21     \n",
              " 1st Qu.:640     \n",
              " Median :640     \n",
              " Mean   :616     \n",
              " 3rd Qu.:751     \n",
              " Max.   :952     "
            ]
          },
          "metadata": {},
          "output_type": "display_data"
        }
      ],
      "source": [
        "# Removendo a linha NA\n",
        "df <- na.omit(df)\n",
        "summary(df)"
      ]
    },
    {
      "cell_type": "markdown",
      "metadata": {
        "id": "vBh6C5uCgfkX"
      },
      "source": [
        "Categóricas\n",
        "\n",
        "*   éFeminino (binária)\n",
        "*   Raça\n",
        "*   GrupoDiagnostico\n",
        "\n",
        "Numéricas\n",
        "\n",
        "\n",
        "*   Idade\n",
        "*   TempoInternacao\n",
        "*   Custo\n",
        "\n",
        "\n",
        "\n"
      ]
    },
    {
      "cell_type": "markdown",
      "metadata": {
        "id": "AzDSlqd1VcZu"
      },
      "source": [
        "### Proposta de Solução (SQL)\n",
        "\n",
        "Responder as perguntas de negócios utilizando linguagem SQL\n",
        "\n",
        "1.   Quantas raças estão representadas no dataset?\n",
        "2.   Qual a idade média dos pacientes?\n",
        "3.   Qual a moda da idade dos pacientes?\n",
        "4.   Qual a variância da coluna idade?\n",
        "5.   Qual o gasto total com internações hospitalares por idade?\n",
        "6.   Qual idade gera o maior gasto total com internações hospitalares?\n",
        "7.   Qual o gasto total com internações hospitalares por gênero?\n",
        "8.   Qual a média de gasto com internações hospitalares por raça do paciente?\n",
        "9.   Para  pacientes  acima  de  10  anos,  qual  a  média  de  gasto  total  com  internações hospitalares?\n",
        "10.  Considerando o item anterior, qual idade tem média de gastos superior a 3000?"
      ]
    },
    {
      "cell_type": "code",
      "execution_count": null,
      "metadata": {
        "colab": {
          "base_uri": "https://localhost:8080/",
          "height": 34
        },
        "id": "YQX5Wp6yiMfA",
        "outputId": "7266cc80-f078-4a90-f63e-108e3752ccba",
        "vscode": {
          "languageId": "r"
        }
      },
      "outputs": [
        {
          "data": {
            "text/html": [
              "<style>\n",
              ".list-inline {list-style: none; margin:0; padding: 0}\n",
              ".list-inline>li {display: inline-block}\n",
              ".list-inline>li:not(:last-child)::after {content: \"\\00b7\"; padding: 0 .5ex}\n",
              "</style>\n",
              "<ol class=list-inline><li>'Idade'</li><li>'éFeminino'</li><li>'TempoInternacao'</li><li>'Raca'</li><li>'Custo'</li><li>'GrupoDiagnostico'</li></ol>\n"
            ],
            "text/latex": [
              "\\begin{enumerate*}\n",
              "\\item 'Idade'\n",
              "\\item 'éFeminino'\n",
              "\\item 'TempoInternacao'\n",
              "\\item 'Raca'\n",
              "\\item 'Custo'\n",
              "\\item 'GrupoDiagnostico'\n",
              "\\end{enumerate*}\n"
            ],
            "text/markdown": [
              "1. 'Idade'\n",
              "2. 'éFeminino'\n",
              "3. 'TempoInternacao'\n",
              "4. 'Raca'\n",
              "5. 'Custo'\n",
              "6. 'GrupoDiagnostico'\n",
              "\n",
              "\n"
            ],
            "text/plain": [
              "[1] \"Idade\"            \"éFeminino\"        \"TempoInternacao\"  \"Raca\"            \n",
              "[5] \"Custo\"            \"GrupoDiagnostico\""
            ]
          },
          "metadata": {},
          "output_type": "display_data"
        }
      ],
      "source": [
        "colnames(df)"
      ]
    },
    {
      "cell_type": "code",
      "execution_count": null,
      "metadata": {
        "colab": {
          "base_uri": "https://localhost:8080/",
          "height": 303
        },
        "id": "6q_Ldp0cU6tk",
        "outputId": "600e8091-d52f-430c-e5ef-8478075f15ff",
        "vscode": {
          "languageId": "r"
        }
      },
      "outputs": [
        {
          "data": {
            "text/html": [
              "<table class=\"dataframe\">\n",
              "<caption>A data.frame: 6 × 2</caption>\n",
              "<thead>\n",
              "\t<tr><th scope=col>Raca</th><th scope=col>Raça</th></tr>\n",
              "\t<tr><th scope=col>&lt;int&gt;</th><th scope=col>&lt;int&gt;</th></tr>\n",
              "</thead>\n",
              "<tbody>\n",
              "\t<tr><td>1</td><td>484</td></tr>\n",
              "\t<tr><td>2</td><td>  6</td></tr>\n",
              "\t<tr><td>3</td><td>  1</td></tr>\n",
              "\t<tr><td>4</td><td>  3</td></tr>\n",
              "\t<tr><td>5</td><td>  3</td></tr>\n",
              "\t<tr><td>6</td><td>  2</td></tr>\n",
              "</tbody>\n",
              "</table>\n"
            ],
            "text/latex": [
              "A data.frame: 6 × 2\n",
              "\\begin{tabular}{ll}\n",
              " Raca & Raça\\\\\n",
              " <int> & <int>\\\\\n",
              "\\hline\n",
              "\t 1 & 484\\\\\n",
              "\t 2 &   6\\\\\n",
              "\t 3 &   1\\\\\n",
              "\t 4 &   3\\\\\n",
              "\t 5 &   3\\\\\n",
              "\t 6 &   2\\\\\n",
              "\\end{tabular}\n"
            ],
            "text/markdown": [
              "\n",
              "A data.frame: 6 × 2\n",
              "\n",
              "| Raca &lt;int&gt; | Raça &lt;int&gt; |\n",
              "|---|---|\n",
              "| 1 | 484 |\n",
              "| 2 |   6 |\n",
              "| 3 |   1 |\n",
              "| 4 |   3 |\n",
              "| 5 |   3 |\n",
              "| 6 |   2 |\n",
              "\n"
            ],
            "text/plain": [
              "  Raca Raça\n",
              "1 1    484 \n",
              "2 2      6 \n",
              "3 3      1 \n",
              "4 4      3 \n",
              "5 5      3 \n",
              "6 6      2 "
            ]
          },
          "metadata": {},
          "output_type": "display_data"
        }
      ],
      "source": [
        "# 1. Quantas raças estão representadas no dataset?\n",
        "sqldf(\"SELECT\n",
        "        Raca,\n",
        "        COUNT(Raca) AS 'Raça'\n",
        "        FROM df\n",
        "        GROUP BY Raca\"\n",
        "        )"
      ]
    },
    {
      "cell_type": "code",
      "execution_count": null,
      "metadata": {
        "colab": {
          "base_uri": "https://localhost:8080/",
          "height": 147
        },
        "id": "KpsKinqTU6wH",
        "outputId": "385acbf3-c7f9-48b3-de19-9089d5c83568",
        "vscode": {
          "languageId": "r"
        }
      },
      "outputs": [
        {
          "data": {
            "text/html": [
              "<table class=\"dataframe\">\n",
              "<caption>A data.frame: 1 × 1</caption>\n",
              "<thead>\n",
              "\t<tr><th scope=col>Média_Idade</th></tr>\n",
              "\t<tr><th scope=col>&lt;dbl&gt;</th></tr>\n",
              "</thead>\n",
              "<tbody>\n",
              "\t<tr><td>5.1</td></tr>\n",
              "</tbody>\n",
              "</table>\n"
            ],
            "text/latex": [
              "A data.frame: 1 × 1\n",
              "\\begin{tabular}{l}\n",
              " Média\\_Idade\\\\\n",
              " <dbl>\\\\\n",
              "\\hline\n",
              "\t 5.1\\\\\n",
              "\\end{tabular}\n"
            ],
            "text/markdown": [
              "\n",
              "A data.frame: 1 × 1\n",
              "\n",
              "| Média_Idade &lt;dbl&gt; |\n",
              "|---|\n",
              "| 5.1 |\n",
              "\n"
            ],
            "text/plain": [
              "  Média_Idade\n",
              "1 5.1        "
            ]
          },
          "metadata": {},
          "output_type": "display_data"
        }
      ],
      "source": [
        "# 2. Qual a idade média dos pacientes?\n",
        "sqldf(\"SELECT\n",
        "        AVG(Idade) AS 'Média_Idade'\n",
        "        FROM df\"\n",
        "        )"
      ]
    },
    {
      "cell_type": "code",
      "execution_count": null,
      "metadata": {
        "colab": {
          "base_uri": "https://localhost:8080/",
          "height": 147
        },
        "id": "a0rn-YYmU6zc",
        "outputId": "63872c54-e874-4a5c-cec4-1c037fa346dc",
        "vscode": {
          "languageId": "r"
        }
      },
      "outputs": [
        {
          "data": {
            "text/html": [
              "<table class=\"dataframe\">\n",
              "<caption>A data.frame: 1 × 2</caption>\n",
              "<thead>\n",
              "\t<tr><th scope=col>Idade</th><th scope=col>Total</th></tr>\n",
              "\t<tr><th scope=col>&lt;int&gt;</th><th scope=col>&lt;int&gt;</th></tr>\n",
              "</thead>\n",
              "<tbody>\n",
              "\t<tr><td>0</td><td>306</td></tr>\n",
              "</tbody>\n",
              "</table>\n"
            ],
            "text/latex": [
              "A data.frame: 1 × 2\n",
              "\\begin{tabular}{ll}\n",
              " Idade & Total\\\\\n",
              " <int> & <int>\\\\\n",
              "\\hline\n",
              "\t 0 & 306\\\\\n",
              "\\end{tabular}\n"
            ],
            "text/markdown": [
              "\n",
              "A data.frame: 1 × 2\n",
              "\n",
              "| Idade &lt;int&gt; | Total &lt;int&gt; |\n",
              "|---|---|\n",
              "| 0 | 306 |\n",
              "\n"
            ],
            "text/plain": [
              "  Idade Total\n",
              "1 0     306  "
            ]
          },
          "metadata": {},
          "output_type": "display_data"
        }
      ],
      "source": [
        "# 3. Qual a moda da idade dos pacientes?\n",
        "sqldf(\"SELECT\n",
        "        Idade,\n",
        "        COUNT(Idade) AS 'Total'\n",
        "        FROM df\n",
        "        GROUP BY Idade\n",
        "        ORDER BY Total DESC\n",
        "        LIMIT 1\"\n",
        "        )"
      ]
    },
    {
      "cell_type": "code",
      "execution_count": null,
      "metadata": {
        "colab": {
          "base_uri": "https://localhost:8080/",
          "height": 164
        },
        "id": "9dh6L_kxiemI",
        "outputId": "9d07fa2b-428c-4658-f5b7-a0dd99d3a798",
        "vscode": {
          "languageId": "r"
        }
      },
      "outputs": [
        {
          "data": {
            "text/html": [
              "<table class=\"dataframe\">\n",
              "<caption>A data.frame: 1 × 1</caption>\n",
              "<thead>\n",
              "\t<tr><th scope=col>Variância</th></tr>\n",
              "\t<tr><th scope=col>&lt;dbl&gt;</th></tr>\n",
              "</thead>\n",
              "<tbody>\n",
              "\t<tr><td>48</td></tr>\n",
              "</tbody>\n",
              "</table>\n"
            ],
            "text/latex": [
              "A data.frame: 1 × 1\n",
              "\\begin{tabular}{l}\n",
              " Variância\\\\\n",
              " <dbl>\\\\\n",
              "\\hline\n",
              "\t 48\\\\\n",
              "\\end{tabular}\n"
            ],
            "text/markdown": [
              "\n",
              "A data.frame: 1 × 1\n",
              "\n",
              "| Variância &lt;dbl&gt; |\n",
              "|---|\n",
              "| 48 |\n",
              "\n"
            ],
            "text/plain": [
              "  Variância\n",
              "1 48       "
            ]
          },
          "metadata": {},
          "output_type": "display_data"
        }
      ],
      "source": [
        "# 4. Qual a variância da coluna idade?\n",
        "sqldf(\"SELECT\n",
        "        AVG((Idade - (SELECT AVG(Idade) FROM df))*(Idade - (SELECT AVG(Idade) FROM df))) AS 'Variância'\n",
        "        FROM df\"\n",
        "        )"
      ]
    },
    {
      "cell_type": "code",
      "execution_count": null,
      "metadata": {
        "colab": {
          "base_uri": "https://localhost:8080/",
          "height": 662
        },
        "id": "dm7XiV57ieqn",
        "outputId": "9f4b2af5-7d6a-4203-a96a-c95d7909bf43",
        "vscode": {
          "languageId": "r"
        }
      },
      "outputs": [
        {
          "data": {
            "text/html": [
              "<table class=\"dataframe\">\n",
              "<caption>A data.frame: 18 × 2</caption>\n",
              "<thead>\n",
              "\t<tr><th scope=col>Idade</th><th scope=col>Gasto_total</th></tr>\n",
              "\t<tr><th scope=col>&lt;int&gt;</th><th scope=col>&lt;int&gt;</th></tr>\n",
              "</thead>\n",
              "<tbody>\n",
              "\t<tr><td> 0</td><td>676962</td></tr>\n",
              "\t<tr><td> 1</td><td> 37744</td></tr>\n",
              "\t<tr><td> 2</td><td>  7298</td></tr>\n",
              "\t<tr><td> 3</td><td> 30550</td></tr>\n",
              "\t<tr><td> 4</td><td> 15992</td></tr>\n",
              "\t<tr><td> 5</td><td> 18507</td></tr>\n",
              "\t<tr><td> 6</td><td> 17928</td></tr>\n",
              "\t<tr><td> 7</td><td> 10087</td></tr>\n",
              "\t<tr><td> 8</td><td>  4741</td></tr>\n",
              "\t<tr><td> 9</td><td> 21147</td></tr>\n",
              "\t<tr><td>10</td><td> 24469</td></tr>\n",
              "\t<tr><td>11</td><td> 14250</td></tr>\n",
              "\t<tr><td>12</td><td> 54912</td></tr>\n",
              "\t<tr><td>13</td><td> 31135</td></tr>\n",
              "\t<tr><td>14</td><td> 64643</td></tr>\n",
              "\t<tr><td>15</td><td>111747</td></tr>\n",
              "\t<tr><td>16</td><td> 69149</td></tr>\n",
              "\t<tr><td>17</td><td>174777</td></tr>\n",
              "</tbody>\n",
              "</table>\n"
            ],
            "text/latex": [
              "A data.frame: 18 × 2\n",
              "\\begin{tabular}{ll}\n",
              " Idade & Gasto\\_total\\\\\n",
              " <int> & <int>\\\\\n",
              "\\hline\n",
              "\t  0 & 676962\\\\\n",
              "\t  1 &  37744\\\\\n",
              "\t  2 &   7298\\\\\n",
              "\t  3 &  30550\\\\\n",
              "\t  4 &  15992\\\\\n",
              "\t  5 &  18507\\\\\n",
              "\t  6 &  17928\\\\\n",
              "\t  7 &  10087\\\\\n",
              "\t  8 &   4741\\\\\n",
              "\t  9 &  21147\\\\\n",
              "\t 10 &  24469\\\\\n",
              "\t 11 &  14250\\\\\n",
              "\t 12 &  54912\\\\\n",
              "\t 13 &  31135\\\\\n",
              "\t 14 &  64643\\\\\n",
              "\t 15 & 111747\\\\\n",
              "\t 16 &  69149\\\\\n",
              "\t 17 & 174777\\\\\n",
              "\\end{tabular}\n"
            ],
            "text/markdown": [
              "\n",
              "A data.frame: 18 × 2\n",
              "\n",
              "| Idade &lt;int&gt; | Gasto_total &lt;int&gt; |\n",
              "|---|---|\n",
              "|  0 | 676962 |\n",
              "|  1 |  37744 |\n",
              "|  2 |   7298 |\n",
              "|  3 |  30550 |\n",
              "|  4 |  15992 |\n",
              "|  5 |  18507 |\n",
              "|  6 |  17928 |\n",
              "|  7 |  10087 |\n",
              "|  8 |   4741 |\n",
              "|  9 |  21147 |\n",
              "| 10 |  24469 |\n",
              "| 11 |  14250 |\n",
              "| 12 |  54912 |\n",
              "| 13 |  31135 |\n",
              "| 14 |  64643 |\n",
              "| 15 | 111747 |\n",
              "| 16 |  69149 |\n",
              "| 17 | 174777 |\n",
              "\n"
            ],
            "text/plain": [
              "   Idade Gasto_total\n",
              "1   0    676962     \n",
              "2   1     37744     \n",
              "3   2      7298     \n",
              "4   3     30550     \n",
              "5   4     15992     \n",
              "6   5     18507     \n",
              "7   6     17928     \n",
              "8   7     10087     \n",
              "9   8      4741     \n",
              "10  9     21147     \n",
              "11 10     24469     \n",
              "12 11     14250     \n",
              "13 12     54912     \n",
              "14 13     31135     \n",
              "15 14     64643     \n",
              "16 15    111747     \n",
              "17 16     69149     \n",
              "18 17    174777     "
            ]
          },
          "metadata": {},
          "output_type": "display_data"
        }
      ],
      "source": [
        "# 5. Qual o gasto total com internações hospitalares por idade?\n",
        "sqldf(\"SELECT\n",
        "        Idade,\n",
        "        SUM(Custo) AS 'Gasto_total'\n",
        "        FROM df\n",
        "        GROUP BY Idade\"\n",
        "        )"
      ]
    },
    {
      "cell_type": "code",
      "execution_count": null,
      "metadata": {
        "colab": {
          "base_uri": "https://localhost:8080/",
          "height": 192
        },
        "id": "4kn3f4cdievi",
        "outputId": "9577141c-8402-4cd1-ec98-c85fa00cab85",
        "vscode": {
          "languageId": "r"
        }
      },
      "outputs": [
        {
          "data": {
            "text/html": [
              "<table class=\"dataframe\">\n",
              "<caption>A data.frame: 3 × 2</caption>\n",
              "<thead>\n",
              "\t<tr><th scope=col>Idade</th><th scope=col>Gasto_total</th></tr>\n",
              "\t<tr><th scope=col>&lt;int&gt;</th><th scope=col>&lt;int&gt;</th></tr>\n",
              "</thead>\n",
              "<tbody>\n",
              "\t<tr><td> 0</td><td>676962</td></tr>\n",
              "\t<tr><td>17</td><td>174777</td></tr>\n",
              "\t<tr><td>15</td><td>111747</td></tr>\n",
              "</tbody>\n",
              "</table>\n"
            ],
            "text/latex": [
              "A data.frame: 3 × 2\n",
              "\\begin{tabular}{ll}\n",
              " Idade & Gasto\\_total\\\\\n",
              " <int> & <int>\\\\\n",
              "\\hline\n",
              "\t  0 & 676962\\\\\n",
              "\t 17 & 174777\\\\\n",
              "\t 15 & 111747\\\\\n",
              "\\end{tabular}\n"
            ],
            "text/markdown": [
              "\n",
              "A data.frame: 3 × 2\n",
              "\n",
              "| Idade &lt;int&gt; | Gasto_total &lt;int&gt; |\n",
              "|---|---|\n",
              "|  0 | 676962 |\n",
              "| 17 | 174777 |\n",
              "| 15 | 111747 |\n",
              "\n"
            ],
            "text/plain": [
              "  Idade Gasto_total\n",
              "1  0    676962     \n",
              "2 17    174777     \n",
              "3 15    111747     "
            ]
          },
          "metadata": {},
          "output_type": "display_data"
        }
      ],
      "source": [
        "# 6. Qual idade gera o maior gasto total com internações hospitalares?\n",
        "sqldf(\"SELECT\n",
        "        Idade,\n",
        "        SUM(Custo) AS 'Gasto_total'\n",
        "        FROM df\n",
        "        GROUP BY Idade\n",
        "        ORDER BY Gasto_total DESC\n",
        "        LIMIT 3\"\n",
        "        )"
      ]
    },
    {
      "cell_type": "code",
      "execution_count": null,
      "metadata": {
        "colab": {
          "base_uri": "https://localhost:8080/",
          "height": 161
        },
        "id": "VoiZmb0eiex7",
        "outputId": "852d4792-3500-4239-8b20-47365262e632",
        "vscode": {
          "languageId": "r"
        }
      },
      "outputs": [
        {
          "data": {
            "text/html": [
              "<table class=\"dataframe\">\n",
              "<caption>A data.frame: 2 × 2</caption>\n",
              "<thead>\n",
              "\t<tr><th scope=col>Gênero</th><th scope=col>Gasto_total</th></tr>\n",
              "\t<tr><th scope=col>&lt;chr&gt;</th><th scope=col>&lt;int&gt;</th></tr>\n",
              "</thead>\n",
              "<tbody>\n",
              "\t<tr><td>Feminino </td><td>650647</td></tr>\n",
              "\t<tr><td>Masculino</td><td>735391</td></tr>\n",
              "</tbody>\n",
              "</table>\n"
            ],
            "text/latex": [
              "A data.frame: 2 × 2\n",
              "\\begin{tabular}{ll}\n",
              " Gênero & Gasto\\_total\\\\\n",
              " <chr> & <int>\\\\\n",
              "\\hline\n",
              "\t Feminino  & 650647\\\\\n",
              "\t Masculino & 735391\\\\\n",
              "\\end{tabular}\n"
            ],
            "text/markdown": [
              "\n",
              "A data.frame: 2 × 2\n",
              "\n",
              "| Gênero &lt;chr&gt; | Gasto_total &lt;int&gt; |\n",
              "|---|---|\n",
              "| Feminino  | 650647 |\n",
              "| Masculino | 735391 |\n",
              "\n"
            ],
            "text/plain": [
              "  Gênero    Gasto_total\n",
              "1 Feminino  650647     \n",
              "2 Masculino 735391     "
            ]
          },
          "metadata": {},
          "output_type": "display_data"
        }
      ],
      "source": [
        "# 7. Qual o gasto total com internações hospitalares por gênero?\n",
        "sqldf(\"SELECT\n",
        "        IIF(éFeminino = 1, 'Feminino','Masculino') AS 'Gênero',\n",
        "        SUM(Custo) AS 'Gasto_total'\n",
        "        FROM df\n",
        "        GROUP BY Gênero\"\n",
        "        )"
      ]
    },
    {
      "cell_type": "code",
      "execution_count": null,
      "metadata": {
        "colab": {
          "base_uri": "https://localhost:8080/",
          "height": 286
        },
        "id": "Jm3RpD8Pie19",
        "outputId": "f4ef3b64-231e-4af8-9cdf-bdc3c98331cd",
        "vscode": {
          "languageId": "r"
        }
      },
      "outputs": [
        {
          "data": {
            "text/html": [
              "<table class=\"dataframe\">\n",
              "<caption>A data.frame: 6 × 3</caption>\n",
              "<thead>\n",
              "\t<tr><th scope=col>Raça</th><th scope=col>Gasto_médio</th><th scope=col>Percentual</th></tr>\n",
              "\t<tr><th scope=col>&lt;int&gt;</th><th scope=col>&lt;dbl&gt;</th><th scope=col>&lt;dbl&gt;</th></tr>\n",
              "</thead>\n",
              "<tbody>\n",
              "\t<tr><td>1</td><td>2773</td><td>17.6</td></tr>\n",
              "\t<tr><td>2</td><td>4202</td><td>26.7</td></tr>\n",
              "\t<tr><td>3</td><td>3041</td><td>19.3</td></tr>\n",
              "\t<tr><td>4</td><td>2345</td><td>14.9</td></tr>\n",
              "\t<tr><td>5</td><td>2027</td><td>12.9</td></tr>\n",
              "\t<tr><td>6</td><td>1349</td><td> 8.6</td></tr>\n",
              "</tbody>\n",
              "</table>\n"
            ],
            "text/latex": [
              "A data.frame: 6 × 3\n",
              "\\begin{tabular}{lll}\n",
              " Raça & Gasto\\_médio & Percentual\\\\\n",
              " <int> & <dbl> & <dbl>\\\\\n",
              "\\hline\n",
              "\t 1 & 2773 & 17.6\\\\\n",
              "\t 2 & 4202 & 26.7\\\\\n",
              "\t 3 & 3041 & 19.3\\\\\n",
              "\t 4 & 2345 & 14.9\\\\\n",
              "\t 5 & 2027 & 12.9\\\\\n",
              "\t 6 & 1349 &  8.6\\\\\n",
              "\\end{tabular}\n"
            ],
            "text/markdown": [
              "\n",
              "A data.frame: 6 × 3\n",
              "\n",
              "| Raça &lt;int&gt; | Gasto_médio &lt;dbl&gt; | Percentual &lt;dbl&gt; |\n",
              "|---|---|---|\n",
              "| 1 | 2773 | 17.6 |\n",
              "| 2 | 4202 | 26.7 |\n",
              "| 3 | 3041 | 19.3 |\n",
              "| 4 | 2345 | 14.9 |\n",
              "| 5 | 2027 | 12.9 |\n",
              "| 6 | 1349 |  8.6 |\n",
              "\n"
            ],
            "text/plain": [
              "  Raça Gasto_médio Percentual\n",
              "1 1    2773        17.6      \n",
              "2 2    4202        26.7      \n",
              "3 3    3041        19.3      \n",
              "4 4    2345        14.9      \n",
              "5 5    2027        12.9      \n",
              "6 6    1349         8.6      "
            ]
          },
          "metadata": {},
          "output_type": "display_data"
        }
      ],
      "source": [
        "# 8. Qual a média de gasto com internações hospitalares por raça do paciente?\n",
        "sqldf(\"SELECT\n",
        "        Raca AS 'Raça',\n",
        "        AVG(Custo) AS 'Gasto_médio',\n",
        "        ROUND((AVG(Custo)/SUM(AVG(Custo))OVER() * 100),2) AS 'Percentual'\n",
        "        FROM df\n",
        "        GROUP BY Raça\"\n",
        "        )"
      ]
    },
    {
      "cell_type": "code",
      "execution_count": null,
      "metadata": {
        "colab": {
          "base_uri": "https://localhost:8080/",
          "height": 147
        },
        "id": "7w_1mv_Bie4h",
        "outputId": "1dc9d66a-98f8-41d3-bfad-4aac8922e542",
        "vscode": {
          "languageId": "r"
        }
      },
      "outputs": [
        {
          "data": {
            "text/html": [
              "<table class=\"dataframe\">\n",
              "<caption>A data.frame: 1 × 1</caption>\n",
              "<thead>\n",
              "\t<tr><th scope=col>Gasto_médio</th></tr>\n",
              "\t<tr><th scope=col>&lt;dbl&gt;</th></tr>\n",
              "</thead>\n",
              "<tbody>\n",
              "\t<tr><td>3214</td></tr>\n",
              "</tbody>\n",
              "</table>\n"
            ],
            "text/latex": [
              "A data.frame: 1 × 1\n",
              "\\begin{tabular}{l}\n",
              " Gasto\\_médio\\\\\n",
              " <dbl>\\\\\n",
              "\\hline\n",
              "\t 3214\\\\\n",
              "\\end{tabular}\n"
            ],
            "text/markdown": [
              "\n",
              "A data.frame: 1 × 1\n",
              "\n",
              "| Gasto_médio &lt;dbl&gt; |\n",
              "|---|\n",
              "| 3214 |\n",
              "\n"
            ],
            "text/plain": [
              "  Gasto_médio\n",
              "1 3214       "
            ]
          },
          "metadata": {},
          "output_type": "display_data"
        }
      ],
      "source": [
        "# 9. Para pacientes acima de 10 anos, qual a média de gasto total com internações hospitalares?\n",
        "sqldf(\"SELECT\n",
        "        AVG(Custo) AS 'Gasto_médio'\n",
        "        FROM df\n",
        "        WHERE Idade > 10\"\n",
        "        )"
      ]
    },
    {
      "cell_type": "code",
      "execution_count": null,
      "metadata": {
        "colab": {
          "base_uri": "https://localhost:8080/",
          "height": 474
        },
        "id": "go1wQB2WrfqF",
        "outputId": "73787e94-22ce-4f02-ed4a-483305c0f095",
        "vscode": {
          "languageId": "r"
        }
      },
      "outputs": [
        {
          "data": {
            "text/html": [
              "<table class=\"dataframe\">\n",
              "<caption>A data.frame: 12 × 2</caption>\n",
              "<thead>\n",
              "\t<tr><th scope=col>Idade</th><th scope=col>Gasto_médio</th></tr>\n",
              "\t<tr><th scope=col>&lt;int&gt;</th><th scope=col>&lt;dbl&gt;</th></tr>\n",
              "</thead>\n",
              "<tbody>\n",
              "\t<tr><td> 1</td><td> 3774</td></tr>\n",
              "\t<tr><td> 2</td><td> 7298</td></tr>\n",
              "\t<tr><td> 3</td><td>10183</td></tr>\n",
              "\t<tr><td> 4</td><td> 7996</td></tr>\n",
              "\t<tr><td> 5</td><td> 9254</td></tr>\n",
              "\t<tr><td> 6</td><td> 8964</td></tr>\n",
              "\t<tr><td> 7</td><td> 3362</td></tr>\n",
              "\t<tr><td> 9</td><td>10574</td></tr>\n",
              "\t<tr><td>10</td><td> 6117</td></tr>\n",
              "\t<tr><td>12</td><td> 3661</td></tr>\n",
              "\t<tr><td>15</td><td> 3853</td></tr>\n",
              "\t<tr><td>17</td><td> 4599</td></tr>\n",
              "</tbody>\n",
              "</table>\n"
            ],
            "text/latex": [
              "A data.frame: 12 × 2\n",
              "\\begin{tabular}{ll}\n",
              " Idade & Gasto\\_médio\\\\\n",
              " <int> & <dbl>\\\\\n",
              "\\hline\n",
              "\t  1 &  3774\\\\\n",
              "\t  2 &  7298\\\\\n",
              "\t  3 & 10183\\\\\n",
              "\t  4 &  7996\\\\\n",
              "\t  5 &  9254\\\\\n",
              "\t  6 &  8964\\\\\n",
              "\t  7 &  3362\\\\\n",
              "\t  9 & 10574\\\\\n",
              "\t 10 &  6117\\\\\n",
              "\t 12 &  3661\\\\\n",
              "\t 15 &  3853\\\\\n",
              "\t 17 &  4599\\\\\n",
              "\\end{tabular}\n"
            ],
            "text/markdown": [
              "\n",
              "A data.frame: 12 × 2\n",
              "\n",
              "| Idade &lt;int&gt; | Gasto_médio &lt;dbl&gt; |\n",
              "|---|---|\n",
              "|  1 |  3774 |\n",
              "|  2 |  7298 |\n",
              "|  3 | 10183 |\n",
              "|  4 |  7996 |\n",
              "|  5 |  9254 |\n",
              "|  6 |  8964 |\n",
              "|  7 |  3362 |\n",
              "|  9 | 10574 |\n",
              "| 10 |  6117 |\n",
              "| 12 |  3661 |\n",
              "| 15 |  3853 |\n",
              "| 17 |  4599 |\n",
              "\n"
            ],
            "text/plain": [
              "   Idade Gasto_médio\n",
              "1   1     3774      \n",
              "2   2     7298      \n",
              "3   3    10183      \n",
              "4   4     7996      \n",
              "5   5     9254      \n",
              "6   6     8964      \n",
              "7   7     3362      \n",
              "8   9    10574      \n",
              "9  10     6117      \n",
              "10 12     3661      \n",
              "11 15     3853      \n",
              "12 17     4599      "
            ]
          },
          "metadata": {},
          "output_type": "display_data"
        }
      ],
      "source": [
        "# 10. Considerando o item anterior, qual idade tem média de gastos superior a 3000?\n",
        "sqldf(\"SELECT\n",
        "        Idade,\n",
        "        AVG(Custo) AS 'Gasto_médio'\n",
        "        FROM df\n",
        "        GROUP BY Idade\n",
        "        HAVING AVG(Custo) > 3000\n",
        "        ORDER BY Idade ASC\"\n",
        "        )"
      ]
    },
    {
      "cell_type": "markdown",
      "metadata": {
        "id": "B-aeLpTL2IFU"
      },
      "source": [
        "### Proposta de Solução (Análise Estatística)\n",
        "\n",
        "Responder as perguntas de negócios utilizando análise estatística:\n",
        "\n",
        "1.   Qual a distribuição da idade dos pacientes que frequentam o hospital?\n",
        "2.   Qual faixa etária tem o maior gasto total no hospital?\n",
        "3.   Qual grupo baseado em diagnóstico (Aprdrg) tem o maior gasto total no hospital?\n",
        "4.   A raça do paciente tem relação com o total gasto em internações no hospital?\n",
        "5.   A combinação de idade e gênero dos pacientes influencia no gasto total em internações no hospital?\n",
        "6.   Como o tempo de permanência é o fator crucial para pacientes internados, desejamos descobrir se o tempo de permanência pode ser previsto a partir de idade, gênero e raça.\n",
        "7.   Quais variável têm maior impacto nos custos de internação hospitalar?"
      ]
    },
    {
      "cell_type": "code",
      "execution_count": null,
      "metadata": {
        "colab": {
          "base_uri": "https://localhost:8080/",
          "height": 617
        },
        "id": "bFjZIv9XU62a",
        "outputId": "596a21fb-d130-4b36-ed37-19ccaaebd560",
        "vscode": {
          "languageId": "r"
        }
      },
      "outputs": [
        {
          "data": {
            "image/png": "[encoded data removed]",
            "text/plain": [
              "Plot with title “Histograma Idade dos Pacientes”"
            ]
          },
          "metadata": {
            "image/png": {
              "height": 600,
              "width": 1200
            }
          },
          "output_type": "display_data"
        }
      ],
      "source": [
        "# 1.Qual a distribuição da idade dos pacientes que frequentam o hospital?\n",
        "hist(df$Idade,\n",
        "      main = 'Histograma Idade dos Pacientes',\n",
        "      xlab = 'Idade',\n",
        "      ylab = 'Frequência',\n",
        "      border = 'black',\n",
        "      col = c('light green','dark green'),\n",
        "      xlim = c(0,20),\n",
        "      ylim = c(0,350),\n",
        "      cex.main = 2,\n",
        "      cex.lab = 1.5,\n",
        "      cex.axis = 1.5\n",
        ")"
      ]
    },
    {
      "cell_type": "markdown",
      "metadata": {
        "id": "rwazzVuX5yv2"
      },
      "source": [
        "Crianças entre 0 e 1 são as que mais frequentam o hospital"
      ]
    },
    {
      "cell_type": "code",
      "execution_count": null,
      "metadata": {
        "colab": {
          "base_uri": "https://localhost:8080/",
          "height": 662
        },
        "id": "eEB1kCZt4RAM",
        "outputId": "adab4cda-c023-4840-a2cf-94e6e26a24b2",
        "vscode": {
          "languageId": "r"
        }
      },
      "outputs": [
        {
          "data": {
            "text/html": [
              "<table class=\"dataframe\">\n",
              "<caption>A tibble: 18 × 2</caption>\n",
              "<thead>\n",
              "\t<tr><th scope=col>Idade</th><th scope=col>Total</th></tr>\n",
              "\t<tr><th scope=col>&lt;int&gt;</th><th scope=col>&lt;int&gt;</th></tr>\n",
              "</thead>\n",
              "<tbody>\n",
              "\t<tr><td> 0</td><td>676962</td></tr>\n",
              "\t<tr><td> 1</td><td> 37744</td></tr>\n",
              "\t<tr><td> 2</td><td>  7298</td></tr>\n",
              "\t<tr><td> 3</td><td> 30550</td></tr>\n",
              "\t<tr><td> 4</td><td> 15992</td></tr>\n",
              "\t<tr><td> 5</td><td> 18507</td></tr>\n",
              "\t<tr><td> 6</td><td> 17928</td></tr>\n",
              "\t<tr><td> 7</td><td> 10087</td></tr>\n",
              "\t<tr><td> 8</td><td>  4741</td></tr>\n",
              "\t<tr><td> 9</td><td> 21147</td></tr>\n",
              "\t<tr><td>10</td><td> 24469</td></tr>\n",
              "\t<tr><td>11</td><td> 14250</td></tr>\n",
              "\t<tr><td>12</td><td> 54912</td></tr>\n",
              "\t<tr><td>13</td><td> 31135</td></tr>\n",
              "\t<tr><td>14</td><td> 64643</td></tr>\n",
              "\t<tr><td>15</td><td>111747</td></tr>\n",
              "\t<tr><td>16</td><td> 69149</td></tr>\n",
              "\t<tr><td>17</td><td>174777</td></tr>\n",
              "</tbody>\n",
              "</table>\n"
            ],
            "text/latex": [
              "A tibble: 18 × 2\n",
              "\\begin{tabular}{ll}\n",
              " Idade & Total\\\\\n",
              " <int> & <int>\\\\\n",
              "\\hline\n",
              "\t  0 & 676962\\\\\n",
              "\t  1 &  37744\\\\\n",
              "\t  2 &   7298\\\\\n",
              "\t  3 &  30550\\\\\n",
              "\t  4 &  15992\\\\\n",
              "\t  5 &  18507\\\\\n",
              "\t  6 &  17928\\\\\n",
              "\t  7 &  10087\\\\\n",
              "\t  8 &   4741\\\\\n",
              "\t  9 &  21147\\\\\n",
              "\t 10 &  24469\\\\\n",
              "\t 11 &  14250\\\\\n",
              "\t 12 &  54912\\\\\n",
              "\t 13 &  31135\\\\\n",
              "\t 14 &  64643\\\\\n",
              "\t 15 & 111747\\\\\n",
              "\t 16 &  69149\\\\\n",
              "\t 17 & 174777\\\\\n",
              "\\end{tabular}\n"
            ],
            "text/markdown": [
              "\n",
              "A tibble: 18 × 2\n",
              "\n",
              "| Idade &lt;int&gt; | Total &lt;int&gt; |\n",
              "|---|---|\n",
              "|  0 | 676962 |\n",
              "|  1 |  37744 |\n",
              "|  2 |   7298 |\n",
              "|  3 |  30550 |\n",
              "|  4 |  15992 |\n",
              "|  5 |  18507 |\n",
              "|  6 |  17928 |\n",
              "|  7 |  10087 |\n",
              "|  8 |   4741 |\n",
              "|  9 |  21147 |\n",
              "| 10 |  24469 |\n",
              "| 11 |  14250 |\n",
              "| 12 |  54912 |\n",
              "| 13 |  31135 |\n",
              "| 14 |  64643 |\n",
              "| 15 | 111747 |\n",
              "| 16 |  69149 |\n",
              "| 17 | 174777 |\n",
              "\n"
            ],
            "text/plain": [
              "   Idade Total \n",
              "1   0    676962\n",
              "2   1     37744\n",
              "3   2      7298\n",
              "4   3     30550\n",
              "5   4     15992\n",
              "6   5     18507\n",
              "7   6     17928\n",
              "8   7     10087\n",
              "9   8      4741\n",
              "10  9     21147\n",
              "11 10     24469\n",
              "12 11     14250\n",
              "13 12     54912\n",
              "14 13     31135\n",
              "15 14     64643\n",
              "16 15    111747\n",
              "17 16     69149\n",
              "18 17    174777"
            ]
          },
          "metadata": {},
          "output_type": "display_data"
        }
      ],
      "source": [
        "# 2. Qual faixa etária tem o maior gasto total no hospital?\n",
        "df1 <- df %>% group_by(Idade) %>% summarise('Total' = sum(Custo))\n",
        "df1"
      ]
    },
    {
      "cell_type": "code",
      "execution_count": null,
      "metadata": {
        "colab": {
          "base_uri": "https://localhost:8080/"
        },
        "id": "CjaaBmmc4RCn",
        "outputId": "39097104-87a0-4c42-a62c-2cf5151e0047",
        "vscode": {
          "languageId": "r"
        }
      },
      "outputs": [
        {
          "name": "stderr",
          "output_type": "stream",
          "text": [
            "Installing package into ‘/usr/local/lib/R/site-library’\n",
            "(as ‘lib’ is unspecified)\n",
            "\n",
            "\n",
            "Attaching package: ‘data.table’\n",
            "\n",
            "\n",
            "The following objects are masked from ‘package:dplyr’:\n",
            "\n",
            "    between, first, last\n",
            "\n",
            "\n"
          ]
        }
      ],
      "source": [
        "# Ou utilizando o data.table\n",
        "install.packages('data.table')\n",
        "library('data.table')"
      ]
    },
    {
      "cell_type": "code",
      "execution_count": null,
      "metadata": {
        "colab": {
          "base_uri": "https://localhost:8080/",
          "height": 129
        },
        "id": "oeNXUogz4RFU",
        "outputId": "0e2a8087-f65e-4a10-bab9-ac7ccf17137a",
        "vscode": {
          "languageId": "r"
        }
      },
      "outputs": [
        {
          "data": {
            "text/html": [
              "<table class=\"dataframe\">\n",
              "<caption>A data.table: 1 × 2</caption>\n",
              "<thead>\n",
              "\t<tr><th scope=col>Idade</th><th scope=col>Total</th></tr>\n",
              "\t<tr><th scope=col>&lt;int&gt;</th><th scope=col>&lt;int&gt;</th></tr>\n",
              "</thead>\n",
              "<tbody>\n",
              "\t<tr><td>0</td><td>676962</td></tr>\n",
              "</tbody>\n",
              "</table>\n"
            ],
            "text/latex": [
              "A data.table: 1 × 2\n",
              "\\begin{tabular}{ll}\n",
              " Idade & Total\\\\\n",
              " <int> & <int>\\\\\n",
              "\\hline\n",
              "\t 0 & 676962\\\\\n",
              "\\end{tabular}\n"
            ],
            "text/markdown": [
              "\n",
              "A data.table: 1 × 2\n",
              "\n",
              "| Idade &lt;int&gt; | Total &lt;int&gt; |\n",
              "|---|---|\n",
              "| 0 | 676962 |\n",
              "\n"
            ],
            "text/plain": [
              "  Idade Total \n",
              "1 0     676962"
            ]
          },
          "metadata": {},
          "output_type": "display_data"
        }
      ],
      "source": [
        "# Transformando o df em data.table\n",
        "df_table <- data.table(df)\n",
        "\n",
        "# Calculando as agregações\n",
        "df_IdadeMaior <- df_table[,.('Total'= sum(Custo)),by=Idade][order(-Total)]\n",
        "df_IdadeMaior[df_IdadeMaior$Total == max(df_IdadeMaior$Total),]"
      ]
    },
    {
      "cell_type": "code",
      "execution_count": null,
      "metadata": {
        "colab": {
          "base_uri": "https://localhost:8080/",
          "height": 34
        },
        "id": "pGkrIo4g194V",
        "outputId": "18b6c399-fb49-47ad-960d-3b21865ad676",
        "vscode": {
          "languageId": "r"
        }
      },
      "outputs": [
        {
          "data": {
            "text/html": [
              "'O grupo 640 tem o maior gasto total, equivalente a 436822'"
            ],
            "text/latex": [
              "'O grupo 640 tem o maior gasto total, equivalente a 436822'"
            ],
            "text/markdown": [
              "'O grupo 640 tem o maior gasto total, equivalente a 436822'"
            ],
            "text/plain": [
              "[1] \"O grupo 640 tem o maior gasto total, equivalente a 436822\""
            ]
          },
          "metadata": {},
          "output_type": "display_data"
        }
      ],
      "source": [
        "# 3. Qual grupo baseado em diagnóstico (Aprdrg) tem o maior gasto total no hospital?\n",
        "df_MaiorGasto <- df_table[,.('Total' = sum(Custo)),by=GrupoDiagnostico][order(-Total)]\n",
        "max_df_MaiorGasto <- df_MaiorGasto[df_MaiorGasto$Total == max(df_MaiorGasto$Total)]\n",
        "sprintf('O grupo %s tem o maior gasto total, equivalente a %s',max_df_MaiorGasto$GrupoDiagnostico, max_df_MaiorGasto$Total)"
      ]
    },
    {
      "cell_type": "code",
      "execution_count": null,
      "metadata": {
        "colab": {
          "base_uri": "https://localhost:8080/",
          "height": 89
        },
        "id": "5goI43888bgV",
        "outputId": "6b887034-7f06-426c-fc10-4027cdea84b8",
        "vscode": {
          "languageId": "r"
        }
      },
      "outputs": [
        {
          "data": {
            "text/html": [
              "<style>\n",
              ".dl-inline {width: auto; margin:0; padding: 0}\n",
              ".dl-inline>dt, .dl-inline>dd {float: none; width: auto; display: inline-block}\n",
              ".dl-inline>dt::after {content: \":\\0020\"; padding-right: .5ex}\n",
              ".dl-inline>dt:not(:first-of-type) {padding-left: .5ex}\n",
              "</style><dl class=dl-inline><dt>1</dt><dd>484</dd><dt>2</dt><dd>6</dd><dt>3</dt><dd>1</dd><dt>4</dt><dd>3</dd><dt>5</dt><dd>3</dd><dt>6</dt><dd>2</dd></dl>\n"
            ],
            "text/latex": [
              "\\begin{description*}\n",
              "\\item[1] 484\n",
              "\\item[2] 6\n",
              "\\item[3] 1\n",
              "\\item[4] 3\n",
              "\\item[5] 3\n",
              "\\item[6] 2\n",
              "\\end{description*}\n"
            ],
            "text/markdown": [
              "1\n",
              ":   4842\n",
              ":   63\n",
              ":   14\n",
              ":   35\n",
              ":   36\n",
              ":   2\n",
              "\n"
            ],
            "text/plain": [
              "  1   2   3   4   5   6 \n",
              "484   6   1   3   3   2 "
            ]
          },
          "metadata": {},
          "output_type": "display_data"
        },
        {
          "data": {
            "text/plain": [
              "             Df     Sum Sq  Mean Sq F value Pr(>F)\n",
              "Raca          1    2488459  2488459    0.16   0.69\n",
              "Residuals   497 7539623326 15170268               "
            ]
          },
          "metadata": {},
          "output_type": "display_data"
        }
      ],
      "source": [
        "# 4. A raça do paciente tem relação com o total gasto em internações no hospital?\n",
        "# Será utilizado o teste ANOVA\n",
        "\n",
        "# dependente: Custo\n",
        "# Independente: Raca\n",
        "# Pois queremos determinar se o Custo tem relação com a Raça\n",
        "\n",
        "# Teste de Hipótese:\n",
        "# H0: Não há efeito da Raca em Custo\n",
        "# H1: Há efeito da Raca em Custo\n",
        "\n",
        "summary(as.factor(df_table$Raca))\n",
        "modelo_v1 <- aov(Custo ~ Raca, data = df_table)\n",
        "summary(modelo_v1)"
      ]
    },
    {
      "cell_type": "markdown",
      "metadata": {
        "id": "rmbiTaURzOXx"
      },
      "source": [
        "Como p-value é maior que o nível de significância (5%), não podemos rejeitar H0. Portanto, provavelmente não há efeito da Raca em Custo."
      ]
    },
    {
      "cell_type": "code",
      "execution_count": null,
      "metadata": {
        "colab": {
          "base_uri": "https://localhost:8080/",
          "height": 127
        },
        "id": "qttw0-7v8bmP",
        "outputId": "187223ae-79b2-4f32-fe5d-d0efd7a7684f",
        "vscode": {
          "languageId": "r"
        }
      },
      "outputs": [
        {
          "data": {
            "text/plain": [
              "             Df     Sum Sq   Mean Sq F value Pr(>F)   \n",
              "Idade         1  129749266 129749266    8.76 0.0032 **\n",
              "éFeminino     1   65219972  65219972    4.40 0.0364 * \n",
              "Residuals   496 7347142546  14812787                  \n",
              "---\n",
              "Signif. codes:  0 ‘***’ 0.001 ‘**’ 0.01 ‘*’ 0.05 ‘.’ 0.1 ‘ ’ 1"
            ]
          },
          "metadata": {},
          "output_type": "display_data"
        }
      ],
      "source": [
        "# 5. A combinação de idade e gênero dos pacientes influencia no gasto total em internações no hospital?\n",
        "\n",
        "# dependente: Custo\n",
        "# Independente: Idade, éFeminino\n",
        "\n",
        "# Teste de Hipótese\n",
        "# H0: Não há efeito de Idade, Gênero em Custo\n",
        "# H1: Há efeito de de Idade, Gênero em Custo\n",
        "\n",
        "modelo_v2 <- aov(Custo ~ Idade + éFeminino, data = df_table)\n",
        "summary(modelo_v2)"
      ]
    },
    {
      "cell_type": "markdown",
      "metadata": {
        "id": "TQvlPPMW0Pu9"
      },
      "source": [
        "Como p-value para as duas variáveis (Idade e Gênero) é menor que 5%, portanto, rejeita-se H0, logo, há efeito de idade e gênero nos gastos de internações do hospital."
      ]
    },
    {
      "cell_type": "code",
      "execution_count": null,
      "metadata": {
        "colab": {
          "base_uri": "https://localhost:8080/",
          "height": 382
        },
        "id": "v_i1PuUy8bop",
        "outputId": "29ca145e-d3da-472f-a01c-19f8a0c1b449",
        "vscode": {
          "languageId": "r"
        }
      },
      "outputs": [
        {
          "data": {
            "text/plain": [
              "\n",
              "Call:\n",
              "lm(formula = TempoInternacao ~ Idade + éFeminino + Raca, data = df_table)\n",
              "\n",
              "Residuals:\n",
              "   Min     1Q Median     3Q    Max \n",
              " -3.22  -1.22  -0.85   0.15  37.78 \n",
              "\n",
              "Coefficients:\n",
              "            Estimate Std. Error t value         Pr(>|t|)    \n",
              "(Intercept)   2.9438     0.3932    7.49 0.00000000000032 ***\n",
              "Idade        -0.0396     0.0223   -1.77            0.077 .  \n",
              "éFeminino     0.3701     0.3102    1.19            0.233    \n",
              "Raca         -0.0941     0.2931   -0.32            0.748    \n",
              "---\n",
              "Signif. codes:  0 ‘***’ 0.001 ‘**’ 0.01 ‘*’ 0.05 ‘.’ 0.1 ‘ ’ 1\n",
              "\n",
              "Residual standard error: 3.4 on 495 degrees of freedom\n",
              "Multiple R-squared:  0.0079,\tAdjusted R-squared:  0.00189 \n",
              "F-statistic: 1.31 on 3 and 495 DF,  p-value: 0.269\n"
            ]
          },
          "metadata": {},
          "output_type": "display_data"
        }
      ],
      "source": [
        "# 6. Como o tempo de permanência é o fator crucial para pacientes internados, desejamos descobrir se o tempo de permanência pode ser previsto a partir de idade, gênero e raça.\n",
        "\n",
        "# Usaremos Regressão Linear\n",
        "# Dependente: TempoInternacao\n",
        "# Independete: Idade, éFeminino, Raca\n",
        "\n",
        "# Teste de hipótese\n",
        "# H0: Não há relação linear entre as variáveis dependentes e independentes\n",
        "# H1: Há relação linear entre as variáveis dependentes e independentes\n",
        "\n",
        "modelo_v3 <- lm(TempoInternacao ~ Idade + éFeminino + Raca, data=df_table)\n",
        "summary(modelo_v3)\n"
      ]
    },
    {
      "cell_type": "markdown",
      "metadata": {
        "id": "cBrtZRVD1rAY"
      },
      "source": [
        "Como p-value das três variáveis são maiores que 5%, então falhamos em rejeitar H0, logo, provavelmente não há relação linerar entre as variáveis dependentes e independentes. Não podemos prever o TempoInternação com base nas variáveis independentes."
      ]
    },
    {
      "cell_type": "code",
      "execution_count": null,
      "metadata": {
        "colab": {
          "base_uri": "https://localhost:8080/",
          "height": 419
        },
        "id": "xvO7ffJc0qP_",
        "outputId": "ab8c6ae1-dd8b-47ca-cb3f-d60931ecd14d",
        "vscode": {
          "languageId": "r"
        }
      },
      "outputs": [
        {
          "data": {
            "text/plain": [
              "\n",
              "Call:\n",
              "lm(formula = Custo ~ ., data = df_table)\n",
              "\n",
              "Residuals:\n",
              "   Min     1Q Median     3Q    Max \n",
              " -6377   -700   -174    122  43378 \n",
              "\n",
              "Coefficients:\n",
              "                 Estimate Std. Error t value             Pr(>|t|)    \n",
              "(Intercept)      5218.677    507.647   10.28 < 0.0000000000000002 ***\n",
              "Idade             134.695     17.471    7.71     0.00000000000007 ***\n",
              "éFeminino        -390.692    247.739   -1.58                 0.12    \n",
              "TempoInternacao   743.152     34.923   21.28 < 0.0000000000000002 ***\n",
              "Raca             -212.429    227.933   -0.93                 0.35    \n",
              "GrupoDiagnostico   -7.791      0.682  -11.43 < 0.0000000000000002 ***\n",
              "---\n",
              "Signif. codes:  0 ‘***’ 0.001 ‘**’ 0.01 ‘*’ 0.05 ‘.’ 0.1 ‘ ’ 1\n",
              "\n",
              "Residual standard error: 2610 on 493 degrees of freedom\n",
              "Multiple R-squared:  0.554,\tAdjusted R-squared:  0.549 \n",
              "F-statistic:  122 on 5 and 493 DF,  p-value: <0.0000000000000002\n"
            ]
          },
          "metadata": {},
          "output_type": "display_data"
        }
      ],
      "source": [
        "# 7. Quais variável têm maior impacto nos custos de internação hospitalar?\n",
        "\n",
        "# Usaremos Regressão Linear\n",
        "# Dependente: Custo\n",
        "# Independentes: .\n",
        "\n",
        "# H0: não há relação linear entre as variáveis indenpendentes e dependente\n",
        "# H1: Há relação linear entre as variáveis independentes e dependentes\n",
        "\n",
        "modelo_v4 <- lm(Custo ~ ., data=df_table)\n",
        "summary(modelo_v4)"
      ]
    },
    {
      "cell_type": "markdown",
      "metadata": {
        "id": "_vXKTcZY2nZ6"
      },
      "source": [
        "As variáveis Idade, TempoInternação e GrupoDiagnóstico possuem maior impacto nos custos do hospital, pois apresentam p-value < 0.05, logo, falhamos em reijeitar a hipótese nula H0 e provavelmente há relação linear entre essas variáveis independentes e a variável dependente (Custo)"
      ]
    },
    {
      "cell_type": "code",
      "execution_count": null,
      "metadata": {
        "colab": {
          "base_uri": "https://localhost:8080/",
          "height": 419
        },
        "id": "u3TyOj1E197G",
        "outputId": "a5bc7b13-6c61-47f4-a028-9a5390e1fc1f",
        "vscode": {
          "languageId": "r"
        }
      },
      "outputs": [
        {
          "data": {
            "text/plain": [
              "\n",
              "Call:\n",
              "lm(formula = Custo ~ Idade + TempoInternacao + GrupoDiagnostico + \n",
              "    éFeminino, data = df_table)\n",
              "\n",
              "Residuals:\n",
              "   Min     1Q Median     3Q    Max \n",
              " -6344   -687   -168    132  43387 \n",
              "\n",
              "Coefficients:\n",
              "                 Estimate Std. Error t value             Pr(>|t|)    \n",
              "(Intercept)      4971.980    433.116   11.48 < 0.0000000000000002 ***\n",
              "Idade             134.241     17.462    7.69    0.000000000000082 ***\n",
              "TempoInternacao   743.618     34.914   21.30 < 0.0000000000000002 ***\n",
              "GrupoDiagnostico   -7.767      0.681  -11.40 < 0.0000000000000002 ***\n",
              "éFeminino        -383.082    247.571   -1.55                 0.12    \n",
              "---\n",
              "Signif. codes:  0 ‘***’ 0.001 ‘**’ 0.01 ‘*’ 0.05 ‘.’ 0.1 ‘ ’ 1\n",
              "\n",
              "Residual standard error: 2610 on 494 degrees of freedom\n",
              "Multiple R-squared:  0.553,\tAdjusted R-squared:  0.549 \n",
              "F-statistic:  153 on 4 and 494 DF,  p-value: <0.0000000000000002\n"
            ]
          },
          "metadata": {},
          "output_type": "display_data"
        }
      ],
      "source": [
        "# Removendo a variável Raca, com baixa significância\n",
        "modelo_v5 <- lm(Custo ~ Idade + TempoInternacao + GrupoDiagnostico + éFeminino, data=df_table)\n",
        "summary(modelo_v5)"
      ]
    },
    {
      "cell_type": "code",
      "execution_count": null,
      "metadata": {
        "colab": {
          "base_uri": "https://localhost:8080/",
          "height": 401
        },
        "id": "50jxGiJF31mq",
        "outputId": "4b0c1ed2-e00e-46f6-ec35-a40570f57ecf",
        "vscode": {
          "languageId": "r"
        }
      },
      "outputs": [
        {
          "data": {
            "text/plain": [
              "\n",
              "Call:\n",
              "lm(formula = Custo ~ Idade + TempoInternacao + GrupoDiagnostico, \n",
              "    data = df_table)\n",
              "\n",
              "Residuals:\n",
              "   Min     1Q Median     3Q    Max \n",
              " -6603   -719   -169    124  43350 \n",
              "\n",
              "Coefficients:\n",
              "                 Estimate Std. Error t value             Pr(>|t|)    \n",
              "(Intercept)      4960.170    433.658   11.44 < 0.0000000000000002 ***\n",
              "Idade             128.552     17.095    7.52     0.00000000000026 ***\n",
              "TempoInternacao   740.806     34.916   21.22 < 0.0000000000000002 ***\n",
              "GrupoDiagnostico   -8.006      0.664  -12.05 < 0.0000000000000002 ***\n",
              "---\n",
              "Signif. codes:  0 ‘***’ 0.001 ‘**’ 0.01 ‘*’ 0.05 ‘.’ 0.1 ‘ ’ 1\n",
              "\n",
              "Residual standard error: 2620 on 495 degrees of freedom\n",
              "Multiple R-squared:  0.551,\tAdjusted R-squared:  0.548 \n",
              "F-statistic:  202 on 3 and 495 DF,  p-value: <0.0000000000000002\n"
            ]
          },
          "metadata": {},
          "output_type": "display_data"
        }
      ],
      "source": [
        "# Removendo a variável éFeminino, com baixa significância\n",
        "modelo_v6 <- lm(Custo ~ Idade + TempoInternacao + GrupoDiagnostico, data=df_table)\n",
        "summary(modelo_v6)"
      ]
    },
    {
      "cell_type": "markdown",
      "metadata": {
        "id": "uJwLs5138Xdg"
      },
      "source": [
        "Portanto, o modelo_v6 apresenta melhor performance. As variáveis Idade, TemporInternacao e GrupoDiagnostico possuem maiores impactos nos custos hospitalares."
      ]
    }
  ],
  "metadata": {
    "colab": {
      "provenance": []
    },
    "kernelspec": {
      "display_name": "R",
      "name": "ir"
    },
    "language_info": {
      "name": "R"
    }
  },
  "nbformat": 4,
  "nbformat_minor": 0
}
